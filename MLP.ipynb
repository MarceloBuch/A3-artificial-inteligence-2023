{
 "cells": [
  {
   "cell_type": "markdown",
   "metadata": {},
   "source": [
    "## Modelo MLP\n",
    "Nesse arquivo vamos trabalhar o algoritmo MLP para obter os resultados de previsão da base de dados vista na pasta 'data'\n",
    "\n",
    "---"
   ]
  },
  {
   "cell_type": "markdown",
   "metadata": {},
   "source": [
    "### Importando bibliotecas"
   ]
  },
  {
   "cell_type": "code",
   "execution_count": 15,
   "metadata": {},
   "outputs": [],
   "source": [
    "import pandas as pd\n",
    "import sklearn.metrics as metrics\n",
    "import matplotlib.pyplot as plt\n",
    "from sklearn.neural_network import MLPClassifier\n",
    "from sklearn.model_selection import train_test_split"
   ]
  },
  {
   "cell_type": "markdown",
   "metadata": {},
   "source": [
    "### Criando Dataset"
   ]
  },
  {
   "cell_type": "code",
   "execution_count": 2,
   "metadata": {},
   "outputs": [
    {
     "data": {
      "text/html": [
       "<div>\n",
       "<style scoped>\n",
       "    .dataframe tbody tr th:only-of-type {\n",
       "        vertical-align: middle;\n",
       "    }\n",
       "\n",
       "    .dataframe tbody tr th {\n",
       "        vertical-align: top;\n",
       "    }\n",
       "\n",
       "    .dataframe thead th {\n",
       "        text-align: right;\n",
       "    }\n",
       "</style>\n",
       "<table border=\"1\" class=\"dataframe\">\n",
       "  <thead>\n",
       "    <tr style=\"text-align: right;\">\n",
       "      <th></th>\n",
       "      <th>Age</th>\n",
       "      <th>Cholesterol</th>\n",
       "      <th>Family History</th>\n",
       "      <th>Smoking</th>\n",
       "      <th>Obesity</th>\n",
       "      <th>Alcohol Consumption</th>\n",
       "      <th>Exercise Hours Per Week</th>\n",
       "      <th>Diet</th>\n",
       "      <th>Physical Activity Days Per Week</th>\n",
       "      <th>Sleep Hours Per Day</th>\n",
       "      <th>Heart Attack Risk</th>\n",
       "      <th>systolic</th>\n",
       "      <th>diastolic</th>\n",
       "    </tr>\n",
       "  </thead>\n",
       "  <tbody>\n",
       "    <tr>\n",
       "      <th>0</th>\n",
       "      <td>67</td>\n",
       "      <td>208</td>\n",
       "      <td>False</td>\n",
       "      <td>True</td>\n",
       "      <td>False</td>\n",
       "      <td>False</td>\n",
       "      <td>4.168189</td>\n",
       "      <td>1</td>\n",
       "      <td>0</td>\n",
       "      <td>6</td>\n",
       "      <td>False</td>\n",
       "      <td>158</td>\n",
       "      <td>88</td>\n",
       "    </tr>\n",
       "    <tr>\n",
       "      <th>1</th>\n",
       "      <td>21</td>\n",
       "      <td>389</td>\n",
       "      <td>True</td>\n",
       "      <td>True</td>\n",
       "      <td>True</td>\n",
       "      <td>True</td>\n",
       "      <td>1.813242</td>\n",
       "      <td>0</td>\n",
       "      <td>1</td>\n",
       "      <td>7</td>\n",
       "      <td>False</td>\n",
       "      <td>165</td>\n",
       "      <td>93</td>\n",
       "    </tr>\n",
       "    <tr>\n",
       "      <th>2</th>\n",
       "      <td>21</td>\n",
       "      <td>324</td>\n",
       "      <td>False</td>\n",
       "      <td>False</td>\n",
       "      <td>False</td>\n",
       "      <td>False</td>\n",
       "      <td>2.078353</td>\n",
       "      <td>2</td>\n",
       "      <td>4</td>\n",
       "      <td>4</td>\n",
       "      <td>False</td>\n",
       "      <td>174</td>\n",
       "      <td>99</td>\n",
       "    </tr>\n",
       "    <tr>\n",
       "      <th>3</th>\n",
       "      <td>84</td>\n",
       "      <td>383</td>\n",
       "      <td>True</td>\n",
       "      <td>True</td>\n",
       "      <td>False</td>\n",
       "      <td>True</td>\n",
       "      <td>9.828130</td>\n",
       "      <td>1</td>\n",
       "      <td>3</td>\n",
       "      <td>4</td>\n",
       "      <td>False</td>\n",
       "      <td>163</td>\n",
       "      <td>100</td>\n",
       "    </tr>\n",
       "    <tr>\n",
       "      <th>4</th>\n",
       "      <td>66</td>\n",
       "      <td>318</td>\n",
       "      <td>True</td>\n",
       "      <td>True</td>\n",
       "      <td>True</td>\n",
       "      <td>False</td>\n",
       "      <td>5.804299</td>\n",
       "      <td>0</td>\n",
       "      <td>1</td>\n",
       "      <td>5</td>\n",
       "      <td>False</td>\n",
       "      <td>91</td>\n",
       "      <td>88</td>\n",
       "    </tr>\n",
       "    <tr>\n",
       "      <th>...</th>\n",
       "      <td>...</td>\n",
       "      <td>...</td>\n",
       "      <td>...</td>\n",
       "      <td>...</td>\n",
       "      <td>...</td>\n",
       "      <td>...</td>\n",
       "      <td>...</td>\n",
       "      <td>...</td>\n",
       "      <td>...</td>\n",
       "      <td>...</td>\n",
       "      <td>...</td>\n",
       "      <td>...</td>\n",
       "      <td>...</td>\n",
       "    </tr>\n",
       "    <tr>\n",
       "      <th>8758</th>\n",
       "      <td>60</td>\n",
       "      <td>121</td>\n",
       "      <td>True</td>\n",
       "      <td>True</td>\n",
       "      <td>False</td>\n",
       "      <td>True</td>\n",
       "      <td>7.917342</td>\n",
       "      <td>2</td>\n",
       "      <td>7</td>\n",
       "      <td>7</td>\n",
       "      <td>False</td>\n",
       "      <td>94</td>\n",
       "      <td>76</td>\n",
       "    </tr>\n",
       "    <tr>\n",
       "      <th>8759</th>\n",
       "      <td>28</td>\n",
       "      <td>120</td>\n",
       "      <td>False</td>\n",
       "      <td>False</td>\n",
       "      <td>True</td>\n",
       "      <td>False</td>\n",
       "      <td>16.558426</td>\n",
       "      <td>2</td>\n",
       "      <td>4</td>\n",
       "      <td>9</td>\n",
       "      <td>False</td>\n",
       "      <td>157</td>\n",
       "      <td>102</td>\n",
       "    </tr>\n",
       "    <tr>\n",
       "      <th>8760</th>\n",
       "      <td>47</td>\n",
       "      <td>250</td>\n",
       "      <td>True</td>\n",
       "      <td>True</td>\n",
       "      <td>True</td>\n",
       "      <td>True</td>\n",
       "      <td>3.148438</td>\n",
       "      <td>1</td>\n",
       "      <td>4</td>\n",
       "      <td>4</td>\n",
       "      <td>True</td>\n",
       "      <td>161</td>\n",
       "      <td>75</td>\n",
       "    </tr>\n",
       "    <tr>\n",
       "      <th>8761</th>\n",
       "      <td>36</td>\n",
       "      <td>178</td>\n",
       "      <td>False</td>\n",
       "      <td>True</td>\n",
       "      <td>False</td>\n",
       "      <td>False</td>\n",
       "      <td>3.789950</td>\n",
       "      <td>0</td>\n",
       "      <td>2</td>\n",
       "      <td>8</td>\n",
       "      <td>False</td>\n",
       "      <td>119</td>\n",
       "      <td>67</td>\n",
       "    </tr>\n",
       "    <tr>\n",
       "      <th>8762</th>\n",
       "      <td>25</td>\n",
       "      <td>356</td>\n",
       "      <td>True</td>\n",
       "      <td>False</td>\n",
       "      <td>False</td>\n",
       "      <td>True</td>\n",
       "      <td>18.081748</td>\n",
       "      <td>2</td>\n",
       "      <td>7</td>\n",
       "      <td>4</td>\n",
       "      <td>True</td>\n",
       "      <td>138</td>\n",
       "      <td>67</td>\n",
       "    </tr>\n",
       "  </tbody>\n",
       "</table>\n",
       "<p>8763 rows × 13 columns</p>\n",
       "</div>"
      ],
      "text/plain": [
       "      Age  Cholesterol  Family History  Smoking  Obesity  Alcohol Consumption  \\\n",
       "0      67          208           False     True    False                False   \n",
       "1      21          389            True     True     True                 True   \n",
       "2      21          324           False    False    False                False   \n",
       "3      84          383            True     True    False                 True   \n",
       "4      66          318            True     True     True                False   \n",
       "...   ...          ...             ...      ...      ...                  ...   \n",
       "8758   60          121            True     True    False                 True   \n",
       "8759   28          120           False    False     True                False   \n",
       "8760   47          250            True     True     True                 True   \n",
       "8761   36          178           False     True    False                False   \n",
       "8762   25          356            True    False    False                 True   \n",
       "\n",
       "      Exercise Hours Per Week  Diet  Physical Activity Days Per Week  \\\n",
       "0                    4.168189     1                                0   \n",
       "1                    1.813242     0                                1   \n",
       "2                    2.078353     2                                4   \n",
       "3                    9.828130     1                                3   \n",
       "4                    5.804299     0                                1   \n",
       "...                       ...   ...                              ...   \n",
       "8758                 7.917342     2                                7   \n",
       "8759                16.558426     2                                4   \n",
       "8760                 3.148438     1                                4   \n",
       "8761                 3.789950     0                                2   \n",
       "8762                18.081748     2                                7   \n",
       "\n",
       "      Sleep Hours Per Day  Heart Attack Risk  systolic  diastolic  \n",
       "0                       6              False       158         88  \n",
       "1                       7              False       165         93  \n",
       "2                       4              False       174         99  \n",
       "3                       4              False       163        100  \n",
       "4                       5              False        91         88  \n",
       "...                   ...                ...       ...        ...  \n",
       "8758                    7              False        94         76  \n",
       "8759                    9              False       157        102  \n",
       "8760                    4               True       161         75  \n",
       "8761                    8              False       119         67  \n",
       "8762                    4               True       138         67  \n",
       "\n",
       "[8763 rows x 13 columns]"
      ]
     },
     "execution_count": 2,
     "metadata": {},
     "output_type": "execute_result"
    }
   ],
   "source": [
    "df = pd.read_csv(\"./data/heart_attack_prediction_dataset.csv\", sep=',')\n",
    "df['systolic'] = df['Blood Pressure'].str.split('/').str[0]\n",
    "df['diastolic'] = df['Blood Pressure'].str.split('/').str[1]\n",
    "df = df.drop(columns=['Patient ID', 'Sex', 'Heart Rate', 'Diabetes'\n",
    "                      , 'Previous Heart Problems','Medication Use','Stress Level', \n",
    "                      'Sedentary Hours Per Day', 'Blood Pressure', \n",
    "                      'Country', 'Continent', 'Hemisphere',\n",
    "                      'Income', 'BMI', 'Triglycerides'])\n",
    "Columns = ['Family History', 'Smoking', 'Obesity', 'Alcohol Consumption', 'Heart Attack Risk']\n",
    "df[Columns] = df[Columns].astype(bool)\n",
    "df['systolic'] = pd.to_numeric(df['systolic']).astype('int64')\n",
    "df['diastolic'] = pd.to_numeric(df['diastolic']).astype('int64')\n",
    "df"
   ]
  },
  {
   "cell_type": "code",
   "execution_count": 3,
   "metadata": {},
   "outputs": [
    {
     "name": "stdout",
     "output_type": "stream",
     "text": [
      "<class 'pandas.core.frame.DataFrame'>\n",
      "RangeIndex: 8763 entries, 0 to 8762\n",
      "Data columns (total 13 columns):\n",
      " #   Column                           Non-Null Count  Dtype  \n",
      "---  ------                           --------------  -----  \n",
      " 0   Age                              8763 non-null   int64  \n",
      " 1   Cholesterol                      8763 non-null   int64  \n",
      " 2   Family History                   8763 non-null   bool   \n",
      " 3   Smoking                          8763 non-null   bool   \n",
      " 4   Obesity                          8763 non-null   bool   \n",
      " 5   Alcohol Consumption              8763 non-null   bool   \n",
      " 6   Exercise Hours Per Week          8763 non-null   float64\n",
      " 7   Diet                             8763 non-null   int64  \n",
      " 8   Physical Activity Days Per Week  8763 non-null   int64  \n",
      " 9   Sleep Hours Per Day              8763 non-null   int64  \n",
      " 10  Heart Attack Risk                8763 non-null   bool   \n",
      " 11  systolic                         8763 non-null   int64  \n",
      " 12  diastolic                        8763 non-null   int64  \n",
      "dtypes: bool(5), float64(1), int64(7)\n",
      "memory usage: 590.6 KB\n"
     ]
    }
   ],
   "source": [
    "df.info()"
   ]
  },
  {
   "cell_type": "markdown",
   "metadata": {},
   "source": [
    "### Preparando dados para o modelo"
   ]
  },
  {
   "cell_type": "code",
   "execution_count": 4,
   "metadata": {},
   "outputs": [
    {
     "data": {
      "text/plain": [
       "<bound method NDFrame.head of 0       False\n",
       "1       False\n",
       "2       False\n",
       "3       False\n",
       "4       False\n",
       "        ...  \n",
       "8758    False\n",
       "8759    False\n",
       "8760     True\n",
       "8761    False\n",
       "8762     True\n",
       "Name: Heart Attack Risk, Length: 8763, dtype: bool>"
      ]
     },
     "execution_count": 4,
     "metadata": {},
     "output_type": "execute_result"
    }
   ],
   "source": [
    "x = df.drop(columns=['Heart Attack Risk'])\n",
    "y = df['Heart Attack Risk']\n",
    "\n",
    "x.head\n",
    "y.head"
   ]
  },
  {
   "cell_type": "markdown",
   "metadata": {},
   "source": [
    "### Separação dos grupos de teste e treino \n",
    "A fatia separada para o treino do modelo equivale a 25% da base de dados"
   ]
  },
  {
   "cell_type": "code",
   "execution_count": 29,
   "metadata": {},
   "outputs": [],
   "source": [
    "X_train, X_test, y_train, y_test = train_test_split(x, y, test_size=0.25)"
   ]
  },
  {
   "cell_type": "markdown",
   "metadata": {},
   "source": [
    "### Criando e treinando modelo de previsão"
   ]
  },
  {
   "cell_type": "code",
   "execution_count": 30,
   "metadata": {},
   "outputs": [
    {
     "name": "stderr",
     "output_type": "stream",
     "text": [
      "c:\\Users\\Marcelo Buchalowicz\\AppData\\Local\\Programs\\Python\\Python311\\Lib\\site-packages\\sklearn\\neural_network\\_multilayer_perceptron.py:546: ConvergenceWarning: lbfgs failed to converge (status=1):\n",
      "STOP: TOTAL NO. of ITERATIONS REACHED LIMIT.\n",
      "\n",
      "Increase the number of iterations (max_iter) or scale the data as shown in:\n",
      "    https://scikit-learn.org/stable/modules/preprocessing.html\n",
      "  self.n_iter_ = _check_optimize_result(\"lbfgs\", opt_res, self.max_iter)\n"
     ]
    }
   ],
   "source": [
    "clf = MLPClassifier(solver='lbfgs', hidden_layer_sizes=(150,100), random_state=1) \n",
    "clf.fit(X_train, y_train)  \n",
    "prediction = clf.predict(X_test)  "
   ]
  },
  {
   "cell_type": "markdown",
   "metadata": {},
   "source": [
    "### Analise dos resultados"
   ]
  },
  {
   "cell_type": "markdown",
   "metadata": {},
   "source": [
    "#### Matriz de confusão"
   ]
  },
  {
   "cell_type": "code",
   "execution_count": 31,
   "metadata": {},
   "outputs": [
    {
     "name": "stdout",
     "output_type": "stream",
     "text": [
      "\n",
      " Matriz de confusão\n",
      " Predito  False  True  Todos\n",
      "Real                       \n",
      "False     1405     2   1407\n",
      "True       778     6    784\n",
      "Todos     2183     8   2191\n"
     ]
    }
   ],
   "source": [
    "print('\\n Matriz de confusão\\n', pd.crosstab(y_test, prediction, rownames=['Real'], colnames=['Predito'], margins = True, margins_name=\"Todos\"))"
   ]
  },
  {
   "cell_type": "markdown",
   "metadata": {},
   "source": [
    "#### Métricas"
   ]
  },
  {
   "cell_type": "code",
   "execution_count": 32,
   "metadata": {},
   "outputs": [
    {
     "name": "stdout",
     "output_type": "stream",
     "text": [
      "Acurácia: 64.4%\n",
      "Precisão: 75.0%\n",
      "Revocação: 0.77%\n",
      "F1-Score: 1.52%\n"
     ]
    }
   ],
   "source": [
    "accur = str(round(metrics.accuracy_score(y_test, prediction) * 100, 2))+\"%\"\n",
    "print(f\"Acurácia: {accur}\")\n",
    "precisao = str(round(metrics.precision_score(y_test, prediction) * 100, 2))+\"%\"\n",
    "print(f'Precisão: {precisao}')\n",
    "revocacao = str(round(metrics.recall_score(y_test, prediction) * 100, 2))+\"%\"\n",
    "print(f'Revocação: {revocacao}')\n",
    "f1 = str(round(metrics.f1_score(y_test, prediction) * 100, 2))+\"%\"\n",
    "print(f'F1-Score: {f1}')"
   ]
  },
  {
   "cell_type": "markdown",
   "metadata": {},
   "source": [
    "#### Aplicando curva ROC aos resultados"
   ]
  },
  {
   "cell_type": "code",
   "execution_count": 23,
   "metadata": {},
   "outputs": [
    {
     "data": {
      "image/png": "[encoded data removed]",
      "text/plain": [
       "<Figure size 640x480 with 1 Axes>"
      ]
     },
     "metadata": {},
     "output_type": "display_data"
    },
    {
     "name": "stdout",
     "output_type": "stream",
     "text": [
      "Área sob a Curva ROC (ROC AUC): 0.49903475426170213%\n"
     ]
    }
   ],
   "source": [
    "fpr, tpr, thresholds = metrics.roc_curve(y_test, prediction)\n",
    "\n",
    "plt.plot(fpr, tpr)\n",
    "plt.xlabel('Taxa de Falsos Positivos')\n",
    "plt.ylabel('Taxa de Verdadeiros Positivos')\n",
    "plt.title('Curva ROC')\n",
    "plt.show()\n",
    "\n",
    "roc_auc = metrics.roc_auc_score(y_test, prediction)\n",
    "print(f'Área sob a Curva ROC (ROC AUC): {roc_auc}%')"
   ]
  }
 ],
 "metadata": {
  "kernelspec": {
   "display_name": "Python 3",
   "language": "python",
   "name": "python3"
  },
  "language_info": {
   "codemirror_mode": {
    "name": "ipython",
    "version": 3
   },
   "file_extension": ".py",
   "mimetype": "text/x-python",
   "name": "python",
   "nbconvert_exporter": "python",
   "pygments_lexer": "ipython3",
   "version": "3.11.1"
  }
 },
 "nbformat": 4,
 "nbformat_minor": 2
}
