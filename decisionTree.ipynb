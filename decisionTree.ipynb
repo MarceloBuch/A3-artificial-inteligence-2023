{
 "cells": [
  {
   "cell_type": "markdown",
   "metadata": {},
   "source": [
    "## Modelo de Árvore de Decisão\n",
    "\n",
    "Nesse arquivo vamos trabalhar o modelo de árvore de decisão, se baseando nos dados vistos na pasta 'data'\n",
    "\n",
    "---"
   ]
  },
  {
   "cell_type": "markdown",
   "metadata": {},
   "source": [
    "### Importando bibliotecas"
   ]
  },
  {
   "cell_type": "code",
   "execution_count": 1,
   "metadata": {},
   "outputs": [],
   "source": [
    "import pandas as pd \n",
    "from sklearn import tree\n",
    "from sklearn.model_selection import train_test_split\n",
    "import sklearn.metrics as metrics\n",
    "import matplotlib as plt\n",
    "import seaborn as sns"
   ]
  },
  {
   "cell_type": "markdown",
   "metadata": {},
   "source": [
    "### Criando dataset"
   ]
  },
  {
   "cell_type": "code",
   "execution_count": 34,
   "metadata": {},
   "outputs": [
    {
     "data": {
      "text/plain": [
       "<bound method NDFrame.head of       Age  Sex  Cholesterol  Heart Rate  Diabetes  Family History  Smoking  \\\n",
       "0      67    1          208          72         0               0        1   \n",
       "1      21    1          389          98         1               1        1   \n",
       "2      21    0          324          72         1               0        0   \n",
       "3      84    1          383          73         1               1        1   \n",
       "4      66    1          318          93         1               1        1   \n",
       "...   ...  ...          ...         ...       ...             ...      ...   \n",
       "8758   60    1          121          61         1               1        1   \n",
       "8759   28    0          120          73         1               0        0   \n",
       "8760   47    1          250         105         0               1        1   \n",
       "8761   36    1          178          60         1               0        1   \n",
       "8762   25    0          356          75         1               1        0   \n",
       "\n",
       "      Obesity  Alcohol Consumption  Exercise Hours Per Week  ...  \\\n",
       "0           0                    0                 4.168189  ...   \n",
       "1           1                    1                 1.813242  ...   \n",
       "2           0                    0                 2.078353  ...   \n",
       "3           0                    1                 9.828130  ...   \n",
       "4           1                    0                 5.804299  ...   \n",
       "...       ...                  ...                      ...  ...   \n",
       "8758        0                    1                 7.917342  ...   \n",
       "8759        1                    0                16.558426  ...   \n",
       "8760        1                    1                 3.148438  ...   \n",
       "8761        0                    0                 3.789950  ...   \n",
       "8762        0                    1                18.081748  ...   \n",
       "\n",
       "      Country_Japan  Country_New Zealand  Country_Nigeria  \\\n",
       "0             False                False            False   \n",
       "1             False                False            False   \n",
       "2             False                False            False   \n",
       "3             False                False            False   \n",
       "4             False                False            False   \n",
       "...             ...                  ...              ...   \n",
       "8758          False                False            False   \n",
       "8759          False                False            False   \n",
       "8760          False                False            False   \n",
       "8761          False                False            False   \n",
       "8762          False                False            False   \n",
       "\n",
       "      Country_South Africa  Country_South Korea  Country_Spain  \\\n",
       "0                    False                False          False   \n",
       "1                    False                False          False   \n",
       "2                    False                False          False   \n",
       "3                    False                False          False   \n",
       "4                    False                False          False   \n",
       "...                    ...                  ...            ...   \n",
       "8758                 False                False          False   \n",
       "8759                 False                False          False   \n",
       "8760                 False                False          False   \n",
       "8761                 False                False          False   \n",
       "8762                 False                False          False   \n",
       "\n",
       "      Country_Thailand  Country_United Kingdom  Country_United States  \\\n",
       "0                False                   False                  False   \n",
       "1                False                   False                  False   \n",
       "2                False                   False                  False   \n",
       "3                False                   False                  False   \n",
       "4                 True                   False                  False   \n",
       "...                ...                     ...                    ...   \n",
       "8758              True                   False                  False   \n",
       "8759             False                   False                  False   \n",
       "8760             False                   False                  False   \n",
       "8761             False                   False                  False   \n",
       "8762             False                    True                  False   \n",
       "\n",
       "      Country_Vietnam  \n",
       "0               False  \n",
       "1               False  \n",
       "2               False  \n",
       "3               False  \n",
       "4               False  \n",
       "...               ...  \n",
       "8758            False  \n",
       "8759            False  \n",
       "8760            False  \n",
       "8761            False  \n",
       "8762            False  \n",
       "\n",
       "[8763 rows x 12717 columns]>"
      ]
     },
     "execution_count": 34,
     "metadata": {},
     "output_type": "execute_result"
    }
   ],
   "source": [
    "df = pd.read_csv(\"./data/heart_attack_prediction_dataset.csv\", sep=',')\n",
    "df = df.drop(columns=['Continent', 'Hemisphere'])\n",
    "df = pd.get_dummies(df, columns=['Patient ID', 'Blood Pressure', 'Diet', 'Country'], drop_first=True)\n",
    "df.head"
   ]
  },
  {
   "cell_type": "markdown",
   "metadata": {},
   "source": [
    "### Preparando dados para o modelo"
   ]
  },
  {
   "cell_type": "code",
   "execution_count": 35,
   "metadata": {},
   "outputs": [
    {
     "data": {
      "text/plain": [
       "<bound method NDFrame.head of 0       0\n",
       "1       0\n",
       "2       0\n",
       "3       0\n",
       "4       0\n",
       "       ..\n",
       "8758    0\n",
       "8759    0\n",
       "8760    1\n",
       "8761    0\n",
       "8762    1\n",
       "Name: Heart Attack Risk, Length: 8763, dtype: int64>"
      ]
     },
     "execution_count": 35,
     "metadata": {},
     "output_type": "execute_result"
    }
   ],
   "source": [
    "x = df.drop(columns=['Heart Attack Risk'])\n",
    "y = df['Heart Attack Risk']\n",
    "\n",
    "x.head\n",
    "y.head"
   ]
  },
  {
   "cell_type": "markdown",
   "metadata": {},
   "source": [
    "### Separação dos grupos de teste e treino \n",
    "A fatia separada para o treino do modelo equivale a 25% da base de dados"
   ]
  },
  {
   "cell_type": "code",
   "execution_count": 36,
   "metadata": {},
   "outputs": [],
   "source": [
    "X_train, X_test, y_train, y_test = train_test_split(x, y, test_size=0.25)"
   ]
  },
  {
   "cell_type": "markdown",
   "metadata": {},
   "source": [
    "### Criação e execução do modelo de árvore de decisão"
   ]
  },
  {
   "cell_type": "code",
   "execution_count": 37,
   "metadata": {},
   "outputs": [],
   "source": [
    "clf = tree.DecisionTreeClassifier(criterion='entropy')\n",
    "clf = clf.fit(X_train, y_train)\n",
    "predictions = clf.predict(X_test)"
   ]
  }
 ],
 "metadata": {
  "kernelspec": {
   "display_name": "Python 3",
   "language": "python",
   "name": "python3"
  },
  "language_info": {
   "codemirror_mode": {
    "name": "ipython",
    "version": 3
   },
   "file_extension": ".py",
   "mimetype": "text/x-python",
   "name": "python",
   "nbconvert_exporter": "python",
   "pygments_lexer": "ipython3",
   "version": "3.11.1"
  }
 },
 "nbformat": 4,
 "nbformat_minor": 2
}
